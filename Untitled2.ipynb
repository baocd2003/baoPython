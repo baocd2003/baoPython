{
 "cells": [
  {
   "cell_type": "code",
   "execution_count": 2,
   "id": "cd665d62",
   "metadata": {},
   "outputs": [
    {
     "name": "stdout",
     "output_type": "stream",
     "text": [
      "\"\"\n",
      "     Em tên Cao Duy Bảo\n",
      "     Nơi ở : Thành phố Hồ Chí Minh\n",
      "     Định hướng tương lai: fullstack web developer\n",
      "    \n",
      "\n"
     ]
    }
   ],
   "source": [
    "a = \"\"\"\"\"\n",
    "     Em tên Cao Duy Bảo\n",
    "     Nơi ở : Thành phố Hồ Chí Minh\n",
    "     Định hướng tương lai: fullstack web developer\n",
    "    \n",
    "\"\"\"\n",
    "print(a)"
   ]
  },
  {
   "cell_type": "code",
   "execution_count": null,
   "id": "97a2d202",
   "metadata": {},
   "outputs": [],
   "source": []
  }
 ],
 "metadata": {
  "kernelspec": {
   "display_name": "Python 3 (ipykernel)",
   "language": "python",
   "name": "python3"
  },
  "language_info": {
   "codemirror_mode": {
    "name": "ipython",
    "version": 3
   },
   "file_extension": ".py",
   "mimetype": "text/x-python",
   "name": "python",
   "nbconvert_exporter": "python",
   "pygments_lexer": "ipython3",
   "version": "3.9.13"
  }
 },
 "nbformat": 4,
 "nbformat_minor": 5
}
