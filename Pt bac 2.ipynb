{
 "cells": [
  {
   "cell_type": "code",
   "execution_count": 19,
   "id": "7d201bb4",
   "metadata": {},
   "outputs": [
    {
     "name": "stdout",
     "output_type": "stream",
     "text": [
      "ax^2 + bx + c\n",
      "Nhap a: 1\n",
      "Nhap b: 5\n",
      "Nhap c: 6\n",
      "pt co 2 nghiem phan biet\n",
      "Nghiem 1:  -4.5\n",
      "Nghiem 2:  -5.5\n"
     ]
    }
   ],
   "source": [
    "import math\n",
    "print('ax^2 + bx + c')\n",
    "a = float(input('Nhap a: '))\n",
    "b= float(input('Nhap b: '))\n",
    "c = float(input('Nhap c: '))\n",
    "d = b*b - 4*a*c\n",
    "if(a == 0 ):\n",
    "    if(b == 0):\n",
    "        if(c == 0):\n",
    "            print('pt co vo so nghiem')\n",
    "        else:\n",
    "            print('pt vo nghiem')\n",
    "    else:\n",
    "        print('pt co 1 nghiem: ', + (-c/b))\n",
    "else:\n",
    "    if(d > 0 ):\n",
    "        print('pt co 2 nghiem phan biet')\n",
    "        print('Nghiem 1: ', +(-b+math.sqrt(d)/2*a))\n",
    "        print('Nghiem 2: ', +(-b-math.sqrt(d)/2*a))\n",
    "    elif(d == 0):\n",
    "        print('pt co nghiem kep: ',+ (-b/2*a))\n",
    "    else:\n",
    "        print('pt vo nghiem')\n",
    "        \n",
    "        "
   ]
  },
  {
   "cell_type": "code",
   "execution_count": null,
   "id": "95d44fc5",
   "metadata": {},
   "outputs": [],
   "source": []
  },
  {
   "cell_type": "code",
   "execution_count": null,
   "id": "e7f48011",
   "metadata": {},
   "outputs": [],
   "source": []
  }
 ],
 "metadata": {
  "kernelspec": {
   "display_name": "Python 3 (ipykernel)",
   "language": "python",
   "name": "python3"
  },
  "language_info": {
   "codemirror_mode": {
    "name": "ipython",
    "version": 3
   },
   "file_extension": ".py",
   "mimetype": "text/x-python",
   "name": "python",
   "nbconvert_exporter": "python",
   "pygments_lexer": "ipython3",
   "version": "3.9.13"
  }
 },
 "nbformat": 4,
 "nbformat_minor": 5
}
