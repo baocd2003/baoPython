{
 "cells": [
  {
   "cell_type": "markdown",
   "id": "12a1feab",
   "metadata": {},
   "source": [
    "# Cấu Trúc điều kiện"
   ]
  },
  {
   "cell_type": "markdown",
   "id": "1dd33eab",
   "metadata": {},
   "source": [
    "# I - Định nghĩa "
   ]
  },
  {
   "cell_type": "markdown",
   "id": "aa5caf99",
   "metadata": {},
   "source": [
    "## câu lệnh if"
   ]
  },
  {
   "cell_type": "code",
   "execution_count": null,
   "id": "a03c4dab",
   "metadata": {},
   "outputs": [],
   "source": []
  },
  {
   "cell_type": "markdown",
   "id": "f127090e",
   "metadata": {},
   "source": [
    "## if -else"
   ]
  },
  {
   "cell_type": "code",
   "execution_count": null,
   "id": "198c2c75",
   "metadata": {},
   "outputs": [],
   "source": []
  },
  {
   "cell_type": "markdown",
   "id": "0c8f98b1",
   "metadata": {},
   "source": [
    "## if lồng nhau"
   ]
  },
  {
   "cell_type": "code",
   "execution_count": null,
   "id": "c0a1a38e",
   "metadata": {},
   "outputs": [],
   "source": []
  },
  {
   "cell_type": "markdown",
   "id": "52f28599",
   "metadata": {},
   "source": [
    "## if bậc thang"
   ]
  },
  {
   "cell_type": "code",
   "execution_count": null,
   "id": "385f1c48",
   "metadata": {},
   "outputs": [],
   "source": []
  },
  {
   "cell_type": "code",
   "execution_count": null,
   "id": "5622ca94",
   "metadata": {},
   "outputs": [],
   "source": []
  },
  {
   "cell_type": "code",
   "execution_count": null,
   "id": "f801193b",
   "metadata": {},
   "outputs": [],
   "source": []
  }
 ],
 "metadata": {
  "kernelspec": {
   "display_name": "Python 3 (ipykernel)",
   "language": "python",
   "name": "python3"
  },
  "language_info": {
   "codemirror_mode": {
    "name": "ipython",
    "version": 3
   },
   "file_extension": ".py",
   "mimetype": "text/x-python",
   "name": "python",
   "nbconvert_exporter": "python",
   "pygments_lexer": "ipython3",
   "version": "3.9.13"
  }
 },
 "nbformat": 4,
 "nbformat_minor": 5
}
