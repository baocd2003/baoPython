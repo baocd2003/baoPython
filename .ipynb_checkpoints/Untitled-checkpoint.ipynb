{
 "cells": [
  {
   "cell_type": "code",
   "execution_count": 7,
   "id": "a5b7449d",
   "metadata": {},
   "outputs": [],
   "source": [
    "import turtle as t"
   ]
  },
  {
   "cell_type": "code",
   "execution_count": 8,
   "id": "d68abe64",
   "metadata": {},
   "outputs": [
    {
     "ename": "AttributeError",
     "evalue": "module 'turtle' has no attribute 'Turle'",
     "output_type": "error",
     "traceback": [
      "\u001b[1;31m---------------------------------------------------------------------------\u001b[0m",
      "\u001b[1;31mAttributeError\u001b[0m                            Traceback (most recent call last)",
      "\u001b[1;32m~\\AppData\\Local\\Temp\\ipykernel_23672\\1261943285.py\u001b[0m in \u001b[0;36m<module>\u001b[1;34m\u001b[0m\n\u001b[1;32m----> 1\u001b[1;33m \u001b[0mpen\u001b[0m \u001b[1;33m=\u001b[0m \u001b[0mt\u001b[0m\u001b[1;33m.\u001b[0m\u001b[0mTurle\u001b[0m\u001b[1;33m(\u001b[0m\u001b[1;33m)\u001b[0m\u001b[1;33m\u001b[0m\u001b[1;33m\u001b[0m\u001b[0m\n\u001b[0m",
      "\u001b[1;31mAttributeError\u001b[0m: module 'turtle' has no attribute 'Turle'"
     ]
    }
   ],
   "source": [
    "pen = t.Turle()"
   ]
  },
  {
   "cell_type": "code",
   "execution_count": 4,
   "id": "97105465",
   "metadata": {},
   "outputs": [
    {
     "data": {
      "text/plain": [
       "<function turtle.mainloop()>"
      ]
     },
     "execution_count": 4,
     "metadata": {},
     "output_type": "execute_result"
    }
   ],
   "source": [
    "import turtle\n",
    "turtle.pensize (3)\n",
    "turtle.circle (100)\n",
    "turtle.done"
   ]
  },
  {
   "cell_type": "code",
   "execution_count": 5,
   "id": "32bf3840",
   "metadata": {},
   "outputs": [],
   "source": [
    "t = turtle.Turtle()\n",
    " \n",
    "a = 80;\n",
    "b = 120;\n",
    " \n",
    "# vẽ cạnh đầu tiên\n",
    "t.forward(b) \n",
    "t.left(90)  \n",
    " \n",
    "# vẽ cạnh thứ hai\n",
    "t.forward(a) \n",
    "t.left(90)  \n",
    " \n",
    "# vẽ cạnh thứ ba\n",
    "t.forward(b) \n",
    "t.left(90)   \n",
    " \n",
    "# vẽ cạnh thứ tư\n",
    "t.forward(a) \n",
    "t.left(90)   "
   ]
  },
  {
   "cell_type": "code",
   "execution_count": null,
   "id": "8b796939",
   "metadata": {},
   "outputs": [],
   "source": []
  }
 ],
 "metadata": {
  "kernelspec": {
   "display_name": "Python 3 (ipykernel)",
   "language": "python",
   "name": "python3"
  },
  "language_info": {
   "codemirror_mode": {
    "name": "ipython",
    "version": 3
   },
   "file_extension": ".py",
   "mimetype": "text/x-python",
   "name": "python",
   "nbconvert_exporter": "python",
   "pygments_lexer": "ipython3",
   "version": "3.9.13"
  }
 },
 "nbformat": 4,
 "nbformat_minor": 5
}
